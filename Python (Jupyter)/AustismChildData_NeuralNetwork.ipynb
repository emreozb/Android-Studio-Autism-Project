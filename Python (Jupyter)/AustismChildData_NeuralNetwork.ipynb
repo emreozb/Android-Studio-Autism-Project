{
 "cells": [
  {
   "cell_type": "code",
   "execution_count": 5,
   "metadata": {
    "colab": {},
    "colab_type": "code",
    "id": "L051z05Uoqcs"
   },
   "outputs": [
    {
     "name": "stderr",
     "output_type": "stream",
     "text": [
      "Using TensorFlow backend.\n"
     ]
    }
   ],
   "source": [
    "import pandas as pd\n",
    "import numpy as np  \n",
    "import matplotlib.pyplot as plt \n",
    "import keras\n",
    "from keras.models import Sequential\n",
    "from keras.layers import Dense"
   ]
  },
  {
   "cell_type": "code",
   "execution_count": 7,
   "metadata": {
    "colab": {},
    "colab_type": "code",
    "id": "vStH0otEpQEn"
   },
   "outputs": [],
   "source": [
    "data = pd.read_excel('AutismChildData.xlsx')\n",
    "data = data.fillna(method='ffill')\n",
    "data['austim']=data['austim'].map({'yes': 1, 'no': 0})"
   ]
  },
  {
   "cell_type": "code",
   "execution_count": 8,
   "metadata": {
    "colab": {},
    "colab_type": "code",
    "id": "0GXOq0vzpbVa"
   },
   "outputs": [],
   "source": [
    "x = data[['A1_Score','A2_Score', 'A3_Score', 'A4_Score', 'A5_Score', 'A6_Score', 'A7_Score', 'A8_Score', 'A9_Score', 'A10_Score']]\n",
    "y = data['austim']"
   ]
  },
  {
   "cell_type": "code",
   "execution_count": 9,
   "metadata": {
    "colab": {},
    "colab_type": "code",
    "id": "yaLUlNVppdLT"
   },
   "outputs": [],
   "source": [
    "from sklearn.model_selection import train_test_split\n",
    "x_train, x_test, y_train, y_test = train_test_split(x, y, train_size = 0.8)"
   ]
  },
  {
   "cell_type": "code",
   "execution_count": 10,
   "metadata": {
    "colab": {},
    "colab_type": "code",
    "id": "XRYzDvHnpg-C"
   },
   "outputs": [],
   "source": [
    "from sklearn.preprocessing import StandardScaler\n",
    "sc = StandardScaler()\n",
    "x_train = sc.fit_transform(x_train)\n",
    "x_test = sc.transform(x_test)"
   ]
  },
  {
   "cell_type": "code",
   "execution_count": 11,
   "metadata": {
    "colab": {},
    "colab_type": "code",
    "id": "6uxSNOSxpmzU"
   },
   "outputs": [
    {
     "name": "stderr",
     "output_type": "stream",
     "text": [
      "c:\\users\\hnguy\\appdata\\local\\programs\\python\\python37\\lib\\site-packages\\ipykernel_launcher.py:5: UserWarning: Update your `Dense` call to the Keras 2 API: `Dense(activation=\"relu\", input_dim=10, units=3, kernel_initializer=\"uniform\")`\n",
      "  \"\"\"\n",
      "c:\\users\\hnguy\\appdata\\local\\programs\\python\\python37\\lib\\site-packages\\ipykernel_launcher.py:7: UserWarning: Update your `Dense` call to the Keras 2 API: `Dense(activation=\"relu\", units=4, kernel_initializer=\"uniform\")`\n",
      "  import sys\n",
      "c:\\users\\hnguy\\appdata\\local\\programs\\python\\python37\\lib\\site-packages\\ipykernel_launcher.py:9: UserWarning: Update your `Dense` call to the Keras 2 API: `Dense(activation=\"sigmoid\", units=1, kernel_initializer=\"uniform\")`\n",
      "  if __name__ == '__main__':\n",
      "c:\\users\\hnguy\\appdata\\local\\programs\\python\\python37\\lib\\site-packages\\ipykernel_launcher.py:15: UserWarning: The `nb_epoch` argument in `fit` has been renamed `epochs`.\n",
      "  from ipykernel import kernelapp as app\n"
     ]
    },
    {
     "name": "stdout",
     "output_type": "stream",
     "text": [
      "Epoch 1/100\n",
      "233/233 [==============================] - 0s 1ms/step - loss: 0.6893 - accuracy: 0.8412\n",
      "Epoch 2/100\n",
      "233/233 [==============================] - 0s 140us/step - loss: 0.6797 - accuracy: 0.8498\n",
      "Epoch 3/100\n",
      "233/233 [==============================] - 0s 122us/step - loss: 0.6687 - accuracy: 0.8498\n",
      "Epoch 4/100\n",
      "233/233 [==============================] - 0s 167us/step - loss: 0.6541 - accuracy: 0.8498\n",
      "Epoch 5/100\n",
      "233/233 [==============================] - 0s 141us/step - loss: 0.6353 - accuracy: 0.8498\n",
      "Epoch 6/100\n",
      "233/233 [==============================] - 0s 159us/step - loss: 0.6116 - accuracy: 0.8498\n",
      "Epoch 7/100\n",
      "233/233 [==============================] - 0s 146us/step - loss: 0.5836 - accuracy: 0.8498\n",
      "Epoch 8/100\n",
      "233/233 [==============================] - 0s 150us/step - loss: 0.5531 - accuracy: 0.8498\n",
      "Epoch 9/100\n",
      "233/233 [==============================] - 0s 180us/step - loss: 0.5223 - accuracy: 0.8498\n",
      "Epoch 10/100\n",
      "233/233 [==============================] - 0s 206us/step - loss: 0.4944 - accuracy: 0.8498\n",
      "Epoch 11/100\n",
      "233/233 [==============================] - 0s 208us/step - loss: 0.4697 - accuracy: 0.8498\n",
      "Epoch 12/100\n",
      "233/233 [==============================] - 0s 223us/step - loss: 0.4514 - accuracy: 0.8498\n",
      "Epoch 13/100\n",
      "233/233 [==============================] - 0s 201us/step - loss: 0.4387 - accuracy: 0.8498\n",
      "Epoch 14/100\n",
      "233/233 [==============================] - 0s 217us/step - loss: 0.4283 - accuracy: 0.8498\n",
      "Epoch 15/100\n",
      "233/233 [==============================] - 0s 197us/step - loss: 0.4207 - accuracy: 0.8498\n",
      "Epoch 16/100\n",
      "233/233 [==============================] - 0s 214us/step - loss: 0.4148 - accuracy: 0.8498\n",
      "Epoch 17/100\n",
      "233/233 [==============================] - 0s 193us/step - loss: 0.4112 - accuracy: 0.8498\n",
      "Epoch 18/100\n",
      "233/233 [==============================] - 0s 197us/step - loss: 0.4072 - accuracy: 0.8498\n",
      "Epoch 19/100\n",
      "233/233 [==============================] - 0s 188us/step - loss: 0.4048 - accuracy: 0.8498\n",
      "Epoch 20/100\n",
      "233/233 [==============================] - 0s 201us/step - loss: 0.4033 - accuracy: 0.8498\n",
      "Epoch 21/100\n",
      "233/233 [==============================] - 0s 188us/step - loss: 0.4019 - accuracy: 0.8498\n",
      "Epoch 22/100\n",
      "233/233 [==============================] - 0s 204us/step - loss: 0.4011 - accuracy: 0.8498\n",
      "Epoch 23/100\n",
      "233/233 [==============================] - 0s 193us/step - loss: 0.3998 - accuracy: 0.8498\n",
      "Epoch 24/100\n",
      "233/233 [==============================] - 0s 193us/step - loss: 0.3993 - accuracy: 0.8498\n",
      "Epoch 25/100\n",
      "233/233 [==============================] - 0s 192us/step - loss: 0.3987 - accuracy: 0.8498\n",
      "Epoch 26/100\n",
      "233/233 [==============================] - 0s 193us/step - loss: 0.3979 - accuracy: 0.8498\n",
      "Epoch 27/100\n",
      "233/233 [==============================] - 0s 188us/step - loss: 0.3972 - accuracy: 0.8498\n",
      "Epoch 28/100\n",
      "233/233 [==============================] - 0s 191us/step - loss: 0.3973 - accuracy: 0.8498\n",
      "Epoch 29/100\n",
      "233/233 [==============================] - 0s 185us/step - loss: 0.3967 - accuracy: 0.8498\n",
      "Epoch 30/100\n",
      "233/233 [==============================] - 0s 194us/step - loss: 0.3954 - accuracy: 0.8498\n",
      "Epoch 31/100\n",
      "233/233 [==============================] - 0s 180us/step - loss: 0.3950 - accuracy: 0.8498\n",
      "Epoch 32/100\n",
      "233/233 [==============================] - 0s 197us/step - loss: 0.3947 - accuracy: 0.8498\n",
      "Epoch 33/100\n",
      "233/233 [==============================] - 0s 188us/step - loss: 0.3943 - accuracy: 0.8498\n",
      "Epoch 34/100\n",
      "233/233 [==============================] - 0s 192us/step - loss: 0.3937 - accuracy: 0.8498\n",
      "Epoch 35/100\n",
      "233/233 [==============================] - 0s 199us/step - loss: 0.3931 - accuracy: 0.8498\n",
      "Epoch 36/100\n",
      "233/233 [==============================] - 0s 218us/step - loss: 0.3930 - accuracy: 0.8498\n",
      "Epoch 37/100\n",
      "233/233 [==============================] - 0s 227us/step - loss: 0.3926 - accuracy: 0.8498\n",
      "Epoch 38/100\n",
      "233/233 [==============================] - 0s 197us/step - loss: 0.3922 - accuracy: 0.8498\n",
      "Epoch 39/100\n",
      "233/233 [==============================] - 0s 157us/step - loss: 0.3919 - accuracy: 0.8498\n",
      "Epoch 40/100\n",
      "233/233 [==============================] - 0s 151us/step - loss: 0.3915 - accuracy: 0.8498\n",
      "Epoch 41/100\n",
      "233/233 [==============================] - 0s 133us/step - loss: 0.3914 - accuracy: 0.8498\n",
      "Epoch 42/100\n",
      "233/233 [==============================] - 0s 188us/step - loss: 0.3915 - accuracy: 0.8498\n",
      "Epoch 43/100\n",
      "233/233 [==============================] - 0s 206us/step - loss: 0.3906 - accuracy: 0.8498\n",
      "Epoch 44/100\n",
      "233/233 [==============================] - 0s 189us/step - loss: 0.3906 - accuracy: 0.8498\n",
      "Epoch 45/100\n",
      "233/233 [==============================] - 0s 188us/step - loss: 0.3905 - accuracy: 0.8498\n",
      "Epoch 46/100\n",
      "233/233 [==============================] - 0s 192us/step - loss: 0.3904 - accuracy: 0.8498\n",
      "Epoch 47/100\n",
      "233/233 [==============================] - 0s 192us/step - loss: 0.3897 - accuracy: 0.8498\n",
      "Epoch 48/100\n",
      "233/233 [==============================] - 0s 210us/step - loss: 0.3899 - accuracy: 0.8498\n",
      "Epoch 49/100\n",
      "233/233 [==============================] - 0s 171us/step - loss: 0.3895 - accuracy: 0.8498\n",
      "Epoch 50/100\n",
      "233/233 [==============================] - 0s 171us/step - loss: 0.3892 - accuracy: 0.8498\n",
      "Epoch 51/100\n",
      "233/233 [==============================] - 0s 188us/step - loss: 0.3891 - accuracy: 0.8498\n",
      "Epoch 52/100\n",
      "233/233 [==============================] - 0s 205us/step - loss: 0.3891 - accuracy: 0.8498\n",
      "Epoch 53/100\n",
      "233/233 [==============================] - 0s 205us/step - loss: 0.3890 - accuracy: 0.8498\n",
      "Epoch 54/100\n",
      "233/233 [==============================] - 0s 193us/step - loss: 0.3881 - accuracy: 0.8498\n",
      "Epoch 55/100\n",
      "233/233 [==============================] - 0s 175us/step - loss: 0.3884 - accuracy: 0.8498\n",
      "Epoch 56/100\n",
      "233/233 [==============================] - 0s 189us/step - loss: 0.3882 - accuracy: 0.8498\n",
      "Epoch 57/100\n",
      "233/233 [==============================] - 0s 188us/step - loss: 0.3877 - accuracy: 0.8498\n",
      "Epoch 58/100\n",
      "233/233 [==============================] - 0s 195us/step - loss: 0.3876 - accuracy: 0.8498\n",
      "Epoch 59/100\n",
      "233/233 [==============================] - 0s 173us/step - loss: 0.3874 - accuracy: 0.8498\n",
      "Epoch 60/100\n",
      "233/233 [==============================] - 0s 179us/step - loss: 0.3872 - accuracy: 0.8498\n",
      "Epoch 61/100\n",
      "233/233 [==============================] - 0s 193us/step - loss: 0.3872 - accuracy: 0.8498\n",
      "Epoch 62/100\n",
      "233/233 [==============================] - 0s 184us/step - loss: 0.3870 - accuracy: 0.8498\n",
      "Epoch 63/100\n",
      "233/233 [==============================] - 0s 189us/step - loss: 0.3869 - accuracy: 0.8498\n",
      "Epoch 64/100\n",
      "233/233 [==============================] - 0s 188us/step - loss: 0.3860 - accuracy: 0.8498\n",
      "Epoch 65/100\n",
      "233/233 [==============================] - 0s 198us/step - loss: 0.3866 - accuracy: 0.8498\n",
      "Epoch 66/100\n",
      "233/233 [==============================] - 0s 206us/step - loss: 0.3860 - accuracy: 0.8498\n",
      "Epoch 67/100\n",
      "233/233 [==============================] - 0s 187us/step - loss: 0.3855 - accuracy: 0.8498\n",
      "Epoch 68/100\n",
      "233/233 [==============================] - 0s 158us/step - loss: 0.3855 - accuracy: 0.8498\n",
      "Epoch 69/100\n",
      "233/233 [==============================] - 0s 159us/step - loss: 0.3854 - accuracy: 0.8498\n",
      "Epoch 70/100\n",
      "233/233 [==============================] - 0s 135us/step - loss: 0.3851 - accuracy: 0.8498\n",
      "Epoch 71/100\n",
      "233/233 [==============================] - 0s 111us/step - loss: 0.3848 - accuracy: 0.8498\n",
      "Epoch 72/100\n",
      "233/233 [==============================] - 0s 124us/step - loss: 0.3846 - accuracy: 0.8498\n",
      "Epoch 73/100\n",
      "233/233 [==============================] - 0s 154us/step - loss: 0.3847 - accuracy: 0.8498\n",
      "Epoch 74/100\n",
      "233/233 [==============================] - 0s 180us/step - loss: 0.3842 - accuracy: 0.8498\n",
      "Epoch 75/100\n",
      "233/233 [==============================] - 0s 189us/step - loss: 0.3842 - accuracy: 0.8498\n",
      "Epoch 76/100\n",
      "233/233 [==============================] - 0s 180us/step - loss: 0.3836 - accuracy: 0.8498\n",
      "Epoch 77/100\n",
      "233/233 [==============================] - 0s 184us/step - loss: 0.3837 - accuracy: 0.8498\n",
      "Epoch 78/100\n",
      "233/233 [==============================] - 0s 175us/step - loss: 0.3831 - accuracy: 0.8498\n",
      "Epoch 79/100\n"
     ]
    },
    {
     "name": "stdout",
     "output_type": "stream",
     "text": [
      "233/233 [==============================] - 0s 184us/step - loss: 0.3832 - accuracy: 0.8498\n",
      "Epoch 80/100\n",
      "233/233 [==============================] - 0s 188us/step - loss: 0.3829 - accuracy: 0.8498\n",
      "Epoch 81/100\n",
      "233/233 [==============================] - 0s 197us/step - loss: 0.3824 - accuracy: 0.8498\n",
      "Epoch 82/100\n",
      "233/233 [==============================] - 0s 184us/step - loss: 0.3821 - accuracy: 0.8498\n",
      "Epoch 83/100\n",
      "233/233 [==============================] - 0s 191us/step - loss: 0.3821 - accuracy: 0.8498\n",
      "Epoch 84/100\n",
      "233/233 [==============================] - 0s 193us/step - loss: 0.3816 - accuracy: 0.8498\n",
      "Epoch 85/100\n",
      "233/233 [==============================] - 0s 184us/step - loss: 0.3814 - accuracy: 0.8498\n",
      "Epoch 86/100\n",
      "233/233 [==============================] - 0s 176us/step - loss: 0.3812 - accuracy: 0.8498\n",
      "Epoch 87/100\n",
      "233/233 [==============================] - 0s 184us/step - loss: 0.3808 - accuracy: 0.8498\n",
      "Epoch 88/100\n",
      "233/233 [==============================] - 0s 184us/step - loss: 0.3806 - accuracy: 0.8498\n",
      "Epoch 89/100\n",
      "233/233 [==============================] - 0s 184us/step - loss: 0.3805 - accuracy: 0.8498\n",
      "Epoch 90/100\n",
      "233/233 [==============================] - 0s 186us/step - loss: 0.3799 - accuracy: 0.8498\n",
      "Epoch 91/100\n",
      "233/233 [==============================] - 0s 176us/step - loss: 0.3800 - accuracy: 0.8498\n",
      "Epoch 92/100\n",
      "233/233 [==============================] - 0s 201us/step - loss: 0.3798 - accuracy: 0.8498\n",
      "Epoch 93/100\n",
      "233/233 [==============================] - 0s 201us/step - loss: 0.3793 - accuracy: 0.8498\n",
      "Epoch 94/100\n",
      "233/233 [==============================] - 0s 206us/step - loss: 0.3792 - accuracy: 0.8498\n",
      "Epoch 95/100\n",
      "233/233 [==============================] - 0s 201us/step - loss: 0.3790 - accuracy: 0.8498\n",
      "Epoch 96/100\n",
      "233/233 [==============================] - 0s 205us/step - loss: 0.3785 - accuracy: 0.8498\n",
      "Epoch 97/100\n",
      "233/233 [==============================] - 0s 201us/step - loss: 0.3785 - accuracy: 0.8498\n",
      "Epoch 98/100\n",
      "233/233 [==============================] - 0s 199us/step - loss: 0.3783 - accuracy: 0.8498\n",
      "Epoch 99/100\n",
      "233/233 [==============================] - 0s 183us/step - loss: 0.3780 - accuracy: 0.8498\n",
      "Epoch 100/100\n",
      "233/233 [==============================] - 0s 188us/step - loss: 0.3780 - accuracy: 0.8498\n"
     ]
    }
   ],
   "source": [
    "#Initializing Neural Network\n",
    "classifier = Sequential()\n",
    "\n",
    "# Adding the input layer and the first hidden layer\n",
    "classifier.add(Dense(output_dim = 3, init = 'uniform', activation = 'relu', input_dim = 10))\n",
    "# Adding the second hidden layer\n",
    "classifier.add(Dense(output_dim = 4, init = 'uniform', activation = 'relu'))\n",
    "# Adding the output layer\n",
    "classifier.add(Dense(output_dim = 1, init = 'uniform', activation = 'sigmoid'))\n",
    "\n",
    "# Compiling Neural Network\n",
    "classifier.compile(optimizer = 'adam', loss = 'binary_crossentropy', metrics = ['accuracy'])\n",
    "\n",
    "# Fitting our model \n",
    "classifier.fit(x_train, y_train, batch_size = 10, nb_epoch = 100)\n",
    "\n",
    "# Predicting the Test set results\n",
    "y_pred = classifier.predict(x_test)\n",
    "y_pred = (y_pred > 0.5)"
   ]
  },
  {
   "cell_type": "code",
   "execution_count": 12,
   "metadata": {
    "colab": {
     "base_uri": "https://localhost:8080/",
     "height": 34
    },
    "colab_type": "code",
    "id": "IKojebMLqXPj",
    "outputId": "eccd1ee0-1f1b-480e-c3c5-56e5d030512f"
   },
   "outputs": [
    {
     "name": "stdout",
     "output_type": "stream",
     "text": [
      "Accuracy: 0.7627118644067796\n"
     ]
    }
   ],
   "source": [
    "from sklearn import metrics\n",
    "print(\"Accuracy:\",metrics.accuracy_score(y_test, y_pred))"
   ]
  },
  {
   "cell_type": "code",
   "execution_count": null,
   "metadata": {},
   "outputs": [],
   "source": []
  }
 ],
 "metadata": {
  "colab": {
   "collapsed_sections": [],
   "name": "autism.ipynb",
   "provenance": []
  },
  "kernelspec": {
   "display_name": "Python 3",
   "language": "python",
   "name": "python3"
  },
  "language_info": {
   "codemirror_mode": {
    "name": "ipython",
    "version": 3
   },
   "file_extension": ".py",
   "mimetype": "text/x-python",
   "name": "python",
   "nbconvert_exporter": "python",
   "pygments_lexer": "ipython3",
   "version": "3.7.3"
  }
 },
 "nbformat": 4,
 "nbformat_minor": 1
}
